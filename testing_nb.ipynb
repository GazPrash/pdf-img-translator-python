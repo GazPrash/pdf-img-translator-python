{
 "cells": [
  {
   "cell_type": "code",
   "execution_count": 1,
   "metadata": {},
   "outputs": [],
   "source": [
    "import pandas as pd\n"
   ]
  },
  {
   "cell_type": "code",
   "execution_count": 2,
   "metadata": {},
   "outputs": [],
   "source": [
    "db = pd.read_csv(\"utils/language_codes.csv\")\n"
   ]
  },
  {
   "cell_type": "code",
   "execution_count": 3,
   "metadata": {},
   "outputs": [
    {
     "data": {
      "text/plain": [
       "['182', 'zh']"
      ]
     },
     "execution_count": 3,
     "metadata": {},
     "output_type": "execute_result"
    }
   ],
   "source": [
    "(db[db[\"English\"] == \"Chinese\"][\"alpha2\"].to_string().split())\n"
   ]
  },
  {
   "cell_type": "code",
   "execution_count": 4,
   "metadata": {},
   "outputs": [
    {
     "data": {
      "text/plain": [
       "'French'"
      ]
     },
     "execution_count": 4,
     "metadata": {},
     "output_type": "execute_result"
    }
   ],
   "source": [
    "db[db[\"alpha2\"] == \"fr\"][\"English\"].to_string().split()[1]\n"
   ]
  },
  {
   "cell_type": "code",
   "execution_count": 5,
   "metadata": {},
   "outputs": [],
   "source": [
    "string1 = \"\"\"\n",
    "Problem StatementsImportant Points to Remember\n",
    "The idea submission phase is from 26th Dec'21 to 4th Jan'22\n",
    "Teams need to select any one of the problem statements and only one member needs to submit\n",
    "their idea.\n",
    "Once the idea is submitted, teams will receive the RSVP for the hackathon.\n",
    "All the projects should be developed during the 36 hours of the hackathon from scratch. Hence no\n",
    "build is allowed before 10 pm, 7th Jan'22.\n",
    "While  we  have  provided  suggestions  with  each  Problem  Statement,  we  don't  expect  you  to\n",
    "restrict yourselves to them.Post your doubts and queries in the #ask-me-anything channel on our discord server.Road Safety\n",
    "Road  mishaps  are  a  constant  concern  for  public  safety,particularly  in  developing  countries.  Overloaded  vehicles,\n",
    "worsening  road  conditions,  lack  of  awareness  or  safe  road\n",
    "use,  drowsiness  and  poor  driver  training  are  among  many\n",
    "reasons for the high levels of road traffic accidents. Design\n",
    "an effective solution for road safety.\n",
    "Suggestions:\n",
    "GPS  enabled  accident  reporting  app  with  damage\n",
    "assessment through photographs.\n",
    "Black  spot  mapping  of  accident  hotspots  and  alerting\n",
    "nearby drivers.\n",
    "Drowsiness and distraction detection of a driver.Smart City Management\n",
    "Cities across the globe are witnessing significant urbanization. In\n",
    "the  next  15  years,  India  will  see  about  200  million  people\n",
    "migrating  to  cities.  Traditional  cities  must  adopt  technology-\n",
    "based solutions to help in their growth, operations and meet their\n",
    "population  demands.  Develop  solutions  to  make  make  our  cities\n",
    "more efficient and intelligent.\n",
    "Suggestions:\n",
    "GPS enabled real-time tracking system for buses.\n",
    "Automated parking management systems\n",
    "Road condition assessment and pothole reporting systemsAgriculture Sector\n",
    "Agriculture is the primary source of livelihood for about 58%\n",
    "of  India’s  population.  Most  of  the  people  engaged  in  this\n",
    "sector  have  not  taken  proper  education  which  affects  the\n",
    "yearly  yield.  Develop  technological  solutions  for  the  benefit\n",
    "of Indian farmers.\n",
    "Suggestions:\n",
    "Crop prediction and monitoring systems.\n",
    "Translate  weather  information  to  actionable  advisory  to\n",
    "farmers.\n",
    "Animal trespassing alarm system.Developer Tools\n",
    "Developing  is  not  an  easy  task  and  as  a  developer,  we\n",
    "love  to  automate  our  workflow  and  be  as  lazy  as  we\n",
    "can. So in developer tools, we can create the tools that\n",
    "help in testing, deploying, managing projects, etc.\n",
    "Suggestions:\n",
    "Tool to automate the generation of boilerplates.\n",
    "Innovative  npm/pip  packages,  web  scrappers,\n",
    "browser extensions, etc.\n",
    "Bots/scripts  for  automating  common  git,  GitHub\n",
    "and VSCode tasks. Tech for Everyone\n",
    "In  this  tech-savvy  world,  some  people  are  disconnected\n",
    "from technology and often feel lost in the phase of rapid\n",
    "development. Due to this, they often witness a decrease\n",
    "in efficiency and productivity. Develop a solution that will\n",
    "assist people to overcome their aversion to learning new\n",
    "technology and allow them to learn more easily.\n",
    "Suggestions:\n",
    "Solutions  to  illustrate  technical  aspects  in  a  simple\n",
    "manner.\n",
    "Make navigation on software easier with multilingual\n",
    "voice commands.\n",
    "Gamification of common tasks.Finance Management\n",
    "In  the  past  few  years,  FinTech  has  emerged  as  a  new\n",
    "model  for  financial  innovation.  With  many  emerging\n",
    "unicorns, we are assured that there is still a lot to develop\n",
    "in  the  FinTech  ecosystem.  Develop  innovative  financial\n",
    "solutions catering to customers and businesses.\n",
    "Suggestions:\n",
    "A platform to maintain and trade NFTs.\n",
    "Price Tracker for stocks and cryptocurrencies.\n",
    "Decentralization  or  semi-decentralization  of  financial\n",
    "institutions.\n",
    "Improving confidentiality of data, even on the cloud.Personal Growth & Well-Being\n",
    "Personal  growth  can  help  people  suffering  from  anxiety  or\n",
    "depression by growing stronger emotionally and mentally. A\n",
    "healthy  mental  state  is  essential  for  improving  oneself.\n",
    "However,  there  are  times  when  external  forces  and  bad\n",
    "habits  can  slow  us  down  or  throw  us  off  track.  Develop\n",
    "solutions  to  minimize  or  eliminate  these  barriers  that  will\n",
    "pave the way to a more successful future.\n",
    "Suggestions:\n",
    "Plan and improve healthy food habits.\n",
    "Address the problem of increased screen time.\n",
    "Helping  people  reach  their  goals  by  managing  their\n",
    "routinesBreaking the Language Barrier\n",
    "Modern communication technologies and increasingly faster\n",
    "modes of travel have nearly eliminated geographical barriers\n",
    "between  people.  The  bigger  issue  that  arises  as  a  result  of\n",
    "this  is  the  disparity  in  spoken  languages,  which  makes  it\n",
    "harder to exchange ideas. Design a solution to bridge the gap\n",
    "and allow for more productive conversations.\n",
    "Suggestions:\n",
    "Real-time language translators, for travellers, to easily\n",
    "deal with local people.\n",
    "Translation of government documents into native\n",
    "languages for better conveyance.\n",
    "AI to perform standard mobile tasks using native speech.Waste Management\n",
    "Improper  waste  disposal  has  huge  environmental\n",
    "impacts  and  can  cause  serious  problems.  The  most\n",
    "important  reason  for  proper  waste  management  is  to\n",
    "protect  the  environment  and  for  the  health  and\n",
    "safety  of  all.  Develop  a  solution  to  tackle  the  waste\n",
    "management crisis.\n",
    "Suggestions:\n",
    "GPS enabled efficient garbage collection system.\n",
    "Waste segregation system.\n",
    "Dustbin locator systemWorkout & Fitness\n",
    "The  physical  fitness  and  health  among  the  work-from-home\n",
    "folks during the pandemic have been degraded. People have lost\n",
    "interest  to  exercise  alone  in  a  virtual  environment,  resulting  in\n",
    "higher  obesity  levels.    Come  up  with  ideas  to  promote  physical\n",
    "fitness in virtual mode.\n",
    "Suggestions:\n",
    "Track  users'  fitness  activities  and  suggest    personalized\n",
    "workout plans.\n",
    "Give  real-time  feedback  and  accuracy  of  user's  exercise\n",
    "movements.\n",
    "Develop  solutions  to  host  online  exercise  competitions\n",
    "among peers.Open Innovation\n",
    "We  don't  want  our  hackers  to  limit  their  ideas.  So\n",
    "we  also  have  an  Open  Innovation  track  where\n",
    "hackers can come up with their own ideas, and build\n",
    "awesome  innovative  projects  in  the  following\n",
    "domains :\n",
    "Blockchain & Cryptography\n",
    "AR/VR\n",
    "Cyber SecuritySo, now that you have read every Problem\n",
    "Statement, please take time to understand it\n",
    "thoroughly.\n",
    "We wish you all, Best of Luck!\n",
    "~ Team DotSlash 5.0\n",
    "\n",
    "\n",
    "\"\"\"\n"
   ]
  },
  {
   "cell_type": "code",
   "execution_count": 6,
   "metadata": {},
   "outputs": [],
   "source": [
    "words = {i: string1.count(i) for i in string1.split(' ') if i !=\"\"}"
   ]
  },
  {
   "cell_type": "code",
   "execution_count": 10,
   "metadata": {},
   "outputs": [],
   "source": [
    "words\n",
    "\n",
    "wdata = pd.Series(words)\n",
    "# wdata = wdata.apply(lambda x : int(x.pop()) if x != [] else 0)"
   ]
  },
  {
   "cell_type": "code",
   "execution_count": 12,
   "metadata": {},
   "outputs": [
    {
     "data": {
      "image/png": "[encoded data removed]",
      "text/plain": [
       "<Figure size 432x288 with 1 Axes>"
      ]
     },
     "metadata": {
      "needs_background": "light"
     },
     "output_type": "display_data"
    }
   ],
   "source": [
    "import matplotlib.pyplot as plt\n",
    "wdata = wdata.sort_values(ascending= False).head(10)\n",
    "\n",
    "plt.plot(wdata.index, wdata, linewidth = '2')\n",
    "plt.show()\n",
    "\n",
    "# wdata\n",
    "\n",
    "\n"
   ]
  },
  {
   "cell_type": "code",
   "execution_count": null,
   "metadata": {},
   "outputs": [],
   "source": []
  },
  {
   "cell_type": "code",
   "execution_count": null,
   "metadata": {},
   "outputs": [],
   "source": []
  },
  {
   "cell_type": "code",
   "execution_count": null,
   "metadata": {},
   "outputs": [],
   "source": []
  },
  {
   "cell_type": "code",
   "execution_count": null,
   "metadata": {},
   "outputs": [],
   "source": []
  }
 ],
 "metadata": {
  "interpreter": {
   "hash": "2e528025401a0992fce9555bbb55eabcdf475ae2b3c6b39122edaadc2cf94b54"
  },
  "kernelspec": {
   "display_name": "Python 3.9.6 64-bit ('projenv': venv)",
   "language": "python",
   "name": "python3"
  },
  "language_info": {
   "codemirror_mode": {
    "name": "ipython",
    "version": 3
   },
   "file_extension": ".py",
   "mimetype": "text/x-python",
   "name": "python",
   "nbconvert_exporter": "python",
   "pygments_lexer": "ipython3",
   "version": "3.9.6"
  },
  "orig_nbformat": 4
 },
 "nbformat": 4,
 "nbformat_minor": 2
}
